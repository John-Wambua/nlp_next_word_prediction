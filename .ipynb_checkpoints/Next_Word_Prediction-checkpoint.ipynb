{
 "cells": [
  {
   "cell_type": "code",
   "execution_count": null,
   "metadata": {
    "id": "HTJE-2N3eiNa"
   },
   "outputs": [],
   "source": [
    "#!python -m spacy download en_core_web_md"
   ]
  },
  {
   "cell_type": "code",
   "execution_count": null,
   "metadata": {
    "id": "jLbzhwDjeyMl"
   },
   "outputs": [],
   "source": [
    "#import spacy"
   ]
  },
  {
   "cell_type": "code",
   "execution_count": null,
   "metadata": {
    "id": "YN02YGa2ep96"
   },
   "outputs": [],
   "source": [
    "#embedding_file=spacy.load('en_core_web_md')"
   ]
  },
  {
   "cell_type": "code",
   "execution_count": null,
   "metadata": {
    "id": "P27Q6hWqe6Pg"
   },
   "outputs": [],
   "source": [
    "#embedding_file('like').vector"
   ]
  },
  {
   "cell_type": "code",
   "execution_count": null,
   "metadata": {
    "id": "zCEN0H6dy9eJ"
   },
   "outputs": [],
   "source": [
    "from sklearn.feature_extraction.text import TfidfVectorizer\n",
    "from nltk.tokenize import word_tokenize,sent_tokenize\n",
    "from sklearn.decomposition import PCA\n",
    "from sklearn.metrics import accuracy_score\n",
    "from sklearn.model_selection import train_test_split"
   ]
  },
  {
   "cell_type": "code",
   "execution_count": null,
   "metadata": {
    "id": "YTSh_eoizBWc"
   },
   "outputs": [],
   "source": [
    "#from nlp import load_dataset\n",
    "from nltk.tokenize import word_tokenize,sent_tokenize"
   ]
  },
  {
   "cell_type": "code",
   "execution_count": null,
   "metadata": {
    "id": "of3vD6f2jDP6"
   },
   "outputs": [],
   "source": [
    "import numpy as np\n",
    "import tensorflow as tf"
   ]
  },
  {
   "cell_type": "code",
   "execution_count": null,
   "metadata": {
    "id": "hTZVjvO12J0v"
   },
   "outputs": [],
   "source": [
    "import nltk\n",
    "import math\n",
    "import json\n",
    "import tensorflow_hub as hub\n",
    "import spacy"
   ]
  },
  {
   "cell_type": "code",
   "execution_count": null,
   "metadata": {
    "colab": {
     "base_uri": "https://localhost:8080/"
    },
    "id": "nv3_5zVS14KO",
    "outputId": "f1789dca-65c3-45bc-96fb-48c6ace4133d"
   },
   "outputs": [
    {
     "name": "stdout",
     "output_type": "stream",
     "text": [
      "[nltk_data] Downloading package punkt to /root/nltk_data...\n",
      "[nltk_data]   Package punkt is already up-to-date!\n"
     ]
    },
    {
     "data": {
      "text/plain": [
       "True"
      ]
     },
     "execution_count": 100,
     "metadata": {
      "tags": []
     },
     "output_type": "execute_result"
    }
   ],
   "source": [
    "nltk.download('punkt')\n",
    "#nltk.download('gutenberg')"
   ]
  },
  {
   "cell_type": "code",
   "execution_count": null,
   "metadata": {
    "id": "DOB779cVjGy2"
   },
   "outputs": [],
   "source": [
    "from tensorflow.keras.layers import SimpleRNN,GRU,LSTM,Dense,Embedding,InputLayer,Input\n",
    "from tensorflow.keras.optimizers import Adam\n",
    "from tensorflow.keras.metrics import CategoricalCrossentropy\n",
    "from tensorflow.keras.losses import CategoricalCrossentropy,categorical_crossentropy\n",
    "from tensorflow.keras import Model\n",
    "from tensorflow.keras.preprocessing.text import Tokenizer\n",
    "from tensorflow.keras.preprocessing.sequence import pad_sequences\n",
    "from nltk.corpus import gutenberg"
   ]
  },
  {
   "cell_type": "code",
   "execution_count": null,
   "metadata": {
    "id": "-G32UEhg0mP9"
   },
   "outputs": [],
   "source": [
    "data=open(\"/content/drive/MyDrive/PhD/Data Sources/WhatsApp/corpus.txt\")\n",
    "data=data.read()"
   ]
  },
  {
   "cell_type": "code",
   "execution_count": null,
   "metadata": {
    "id": "rjRi8aL1aB40"
   },
   "outputs": [],
   "source": [
    "#data=gutenberg.raw(fileids='austen-emma.txt')"
   ]
  },
  {
   "cell_type": "code",
   "execution_count": null,
   "metadata": {
    "id": "JxzWLbrNT-bk"
   },
   "outputs": [],
   "source": [
    "data"
   ]
  },
  {
   "cell_type": "code",
   "execution_count": null,
   "metadata": {
    "id": "L4R4V4h1-Vyo"
   },
   "outputs": [],
   "source": [
    "corpus_list=[]\n",
    "corpus=sent_tokenize(data)\n",
    "for sent in corpus:\n",
    "  corpus_list.append([sent])"
   ]
  },
  {
   "cell_type": "code",
   "execution_count": null,
   "metadata": {
    "id": "pv-sWlN5rlq8"
   },
   "outputs": [],
   "source": [
    "corpus"
   ]
  },
  {
   "cell_type": "code",
   "execution_count": null,
   "metadata": {
    "colab": {
     "base_uri": "https://localhost:8080/"
    },
    "id": "bQv2dcaoC8N4",
    "outputId": "1cbd92bf-dfa8-4de9-e2c6-54234b46fe5a"
   },
   "outputs": [
    {
     "data": {
      "text/plain": [
       "67"
      ]
     },
     "execution_count": 107,
     "metadata": {
      "tags": []
     },
     "output_type": "execute_result"
    }
   ],
   "source": [
    "len(corpus_list)"
   ]
  },
  {
   "cell_type": "code",
   "execution_count": null,
   "metadata": {
    "id": "YXVsaG1mCPpA"
   },
   "outputs": [],
   "source": [
    "vectorizer = TfidfVectorizer()"
   ]
  },
  {
   "cell_type": "code",
   "execution_count": null,
   "metadata": {
    "id": "TUvcHY0tCQhE"
   },
   "outputs": [],
   "source": [
    "X = vectorizer.fit_transform(corpus)"
   ]
  },
  {
   "cell_type": "code",
   "execution_count": null,
   "metadata": {
    "id": "7xJDOiXFCShU"
   },
   "outputs": [],
   "source": [
    "vocab=vectorizer.get_feature_names()"
   ]
  },
  {
   "cell_type": "code",
   "execution_count": null,
   "metadata": {
    "colab": {
     "base_uri": "https://localhost:8080/"
    },
    "id": "3UGNKKvTDr0b",
    "outputId": "6fac3500-2c90-489d-f7b8-efb645116e0e"
   },
   "outputs": [
    {
     "data": {
      "text/plain": [
       "592"
      ]
     },
     "execution_count": 111,
     "metadata": {
      "tags": []
     },
     "output_type": "execute_result"
    }
   ],
   "source": [
    "len(vocab)"
   ]
  },
  {
   "cell_type": "code",
   "execution_count": null,
   "metadata": {
    "id": "XagMp3SjCh89"
   },
   "outputs": [],
   "source": [
    "embeddings_array=X.toarray().T"
   ]
  },
  {
   "cell_type": "code",
   "execution_count": null,
   "metadata": {
    "id": "DT8c7w-7CjdO"
   },
   "outputs": [],
   "source": [
    "pca=PCA(n_components=50)"
   ]
  },
  {
   "cell_type": "code",
   "execution_count": null,
   "metadata": {
    "id": "xiMVVGCJCmet"
   },
   "outputs": [],
   "source": [
    "dense_embeddings=pca.fit_transform(embeddings_array)"
   ]
  },
  {
   "cell_type": "code",
   "execution_count": null,
   "metadata": {
    "id": "tu2Dq94rCuF-"
   },
   "outputs": [],
   "source": [
    "embeddings_dict={}"
   ]
  },
  {
   "cell_type": "code",
   "execution_count": null,
   "metadata": {
    "id": "8Q64WXqFCzlV"
   },
   "outputs": [],
   "source": [
    "for i in range(len(vocab)):\n",
    "  embeddings_dict[vocab[i]]=dense_embeddings[i].tolist()"
   ]
  },
  {
   "cell_type": "code",
   "execution_count": null,
   "metadata": {
    "id": "qqRXRezK2WAu"
   },
   "outputs": [],
   "source": [
    "seq_len=10\n",
    "tokenizer=Tokenizer()\n",
    "tokenizer.fit_on_texts([data])\n",
    "x=tokenizer.texts_to_sequences([data])\n",
    "#x"
   ]
  },
  {
   "cell_type": "code",
   "execution_count": null,
   "metadata": {
    "id": "2PFl9iQ8qgZ3"
   },
   "outputs": [],
   "source": [
    "x[0]"
   ]
  },
  {
   "cell_type": "code",
   "execution_count": null,
   "metadata": {
    "colab": {
     "base_uri": "https://localhost:8080/"
    },
    "id": "we_hprIlUtg4",
    "outputId": "e43c9f93-c566-4d14-dfd5-41835a9877ff"
   },
   "outputs": [
    {
     "data": {
      "text/plain": [
       "2226"
      ]
     },
     "execution_count": 119,
     "metadata": {
      "tags": []
     },
     "output_type": "execute_result"
    }
   ],
   "source": [
    "len(x[0])"
   ]
  },
  {
   "cell_type": "code",
   "execution_count": null,
   "metadata": {
    "id": "PvnR-g1E1iEu"
   },
   "outputs": [],
   "source": [
    "#tokenizer.get_config()"
   ]
  },
  {
   "cell_type": "code",
   "execution_count": null,
   "metadata": {
    "id": "RcikPqp7r667"
   },
   "outputs": [],
   "source": [
    "vocab_dict=json.loads(tokenizer.get_config().get('word_index'))"
   ]
  },
  {
   "cell_type": "code",
   "execution_count": null,
   "metadata": {
    "id": "8z9TJ69hq1zM"
   },
   "outputs": [],
   "source": [
    "vocab_dict"
   ]
  },
  {
   "cell_type": "code",
   "execution_count": null,
   "metadata": {
    "id": "y6rvcZQ3uU3Y"
   },
   "outputs": [],
   "source": [
    "vals=list(vocab_dict.values())\n",
    "keys=list(vocab_dict.keys())\n",
    "#keys[vals.index(1)]"
   ]
  },
  {
   "cell_type": "code",
   "execution_count": null,
   "metadata": {
    "id": "rDNcHMcfNzQ4"
   },
   "outputs": [],
   "source": [
    "vocab_size=len(keys)"
   ]
  },
  {
   "cell_type": "code",
   "execution_count": null,
   "metadata": {
    "colab": {
     "base_uri": "https://localhost:8080/"
    },
    "id": "8IQlLxHeRgBz",
    "outputId": "9b014933-588e-4583-bb22-157b662c53cc"
   },
   "outputs": [
    {
     "data": {
      "text/plain": [
       "605"
      ]
     },
     "execution_count": 125,
     "metadata": {
      "tags": []
     },
     "output_type": "execute_result"
    }
   ],
   "source": [
    "vocab_size"
   ]
  },
  {
   "cell_type": "code",
   "execution_count": null,
   "metadata": {
    "colab": {
     "base_uri": "https://localhost:8080/"
    },
    "id": "vif75frJaldU",
    "outputId": "c682780f-7054-47ef-aa67-07b34e5ad251"
   },
   "outputs": [
    {
     "data": {
      "text/plain": [
       "(606, 50)"
      ]
     },
     "execution_count": 126,
     "metadata": {
      "tags": []
     },
     "output_type": "execute_result"
    }
   ],
   "source": [
    "embedding_array=np.zeros((vocab_size+1,50))\n",
    "embedding_array.shape"
   ]
  },
  {
   "cell_type": "code",
   "execution_count": null,
   "metadata": {
    "id": "BeSS4bYAZQW8"
   },
   "outputs": [],
   "source": [
    "for word,i in tokenizer.word_index.items():\n",
    "  if word in embeddings_dict:\n",
    "    embedding_vector=embeddings_dict[word]\n",
    "  #if embedding_vector is not None:\n",
    "    embedding_array[i]=embedding_vector"
   ]
  },
  {
   "cell_type": "code",
   "execution_count": null,
   "metadata": {
    "colab": {
     "base_uri": "https://localhost:8080/",
     "height": 55
    },
    "id": "I8xo3tjZfCUT",
    "outputId": "7ceabfb3-6f1a-484a-9cb8-5b6be2dba63e"
   },
   "outputs": [
    {
     "data": {
      "application/vnd.google.colaboratory.intrinsic+json": {
       "type": "string"
      },
      "text/plain": [
       "'for word,i in tokenizer.word_index.items():\\n  embedding_vector=embedding_file(word).vector\\n  if embedding_vector is not None:\\n    embedding_array[i]=embedding_vector'"
      ]
     },
     "execution_count": 128,
     "metadata": {
      "tags": []
     },
     "output_type": "execute_result"
    }
   ],
   "source": [
    "\"\"\"for word,i in tokenizer.word_index.items():\n",
    "  embedding_vector=embedding_file(word).vector\n",
    "  if embedding_vector is not None:\n",
    "    embedding_array[i]=embedding_vector\"\"\""
   ]
  },
  {
   "cell_type": "code",
   "execution_count": null,
   "metadata": {
    "id": "bIj5PtCIZyt2"
   },
   "outputs": [],
   "source": [
    "#embedding_array[7306]"
   ]
  },
  {
   "cell_type": "code",
   "execution_count": null,
   "metadata": {
    "colab": {
     "base_uri": "https://localhost:8080/"
    },
    "id": "i6-XEAC_Vu_Y",
    "outputId": "1aedd227-73da-4827-a77e-1570ca0f7a22"
   },
   "outputs": [
    {
     "data": {
      "text/plain": [
       "2226"
      ]
     },
     "execution_count": 130,
     "metadata": {
      "tags": []
     },
     "output_type": "execute_result"
    }
   ],
   "source": [
    "len(x[0])"
   ]
  },
  {
   "cell_type": "code",
   "execution_count": null,
   "metadata": {
    "colab": {
     "base_uri": "https://localhost:8080/"
    },
    "id": "1tVjyvXhTNJR",
    "outputId": "2061e58c-06e0-4122-8e7d-cc2d97a5d48c"
   },
   "outputs": [
    {
     "data": {
      "text/plain": [
       "[114, 33, 150, 151, 12, 39, 241, 2, 4, 28, 6, 242, 2, 115, 87]"
      ]
     },
     "execution_count": 131,
     "metadata": {
      "tags": []
     },
     "output_type": "execute_result"
    }
   ],
   "source": [
    "x[0][0:15]"
   ]
  },
  {
   "cell_type": "code",
   "execution_count": null,
   "metadata": {
    "id": "rzuDqCqaSTE0"
   },
   "outputs": [],
   "source": [
    "inner_list=[]\n",
    "X={}\n",
    "corpus_length=len(x[0])-seq_len\n",
    "k=0\n",
    "\n",
    "for i in range(0,corpus_length,seq_len):\n",
    "  inner_list.clear()\n",
    "  for j in range(i,i+seq_len):\n",
    "    inner_list.append(x[0][j])\n",
    "  X[k]=inner_list[:]\n",
    "  k=k+1"
   ]
  },
  {
   "cell_type": "code",
   "execution_count": null,
   "metadata": {
    "id": "V2gTJPZikPnq"
   },
   "outputs": [],
   "source": [
    "#list(X.values())\n",
    "x_train=[]\n",
    "y_train=[]\n",
    "for it in list(X.values()):\n",
    "  x_train.append(it[0:-1])\n",
    "  y_train.append(it[-1])"
   ]
  },
  {
   "cell_type": "code",
   "execution_count": null,
   "metadata": {
    "colab": {
     "base_uri": "https://localhost:8080/"
    },
    "id": "_mNwoEZem2fX",
    "outputId": "578920e0-270d-4de1-a7bc-a118f68f10db"
   },
   "outputs": [
    {
     "data": {
      "text/plain": [
       "[150, 243, 117, 2, 4, 18, 244, 28, 245]"
      ]
     },
     "execution_count": 134,
     "metadata": {
      "tags": []
     },
     "output_type": "execute_result"
    }
   ],
   "source": [
    "x_train[3]"
   ]
  },
  {
   "cell_type": "code",
   "execution_count": null,
   "metadata": {
    "colab": {
     "base_uri": "https://localhost:8080/"
    },
    "id": "O0ACQB-eWHWV",
    "outputId": "ea363548-b9d1-4056-98e1-c970740d2c5a"
   },
   "outputs": [
    {
     "data": {
      "text/plain": [
       "222"
      ]
     },
     "execution_count": 135,
     "metadata": {
      "tags": []
     },
     "output_type": "execute_result"
    }
   ],
   "source": [
    "len(x_train)"
   ]
  },
  {
   "cell_type": "code",
   "execution_count": null,
   "metadata": {
    "id": "n3pVZIEFTJWL"
   },
   "outputs": [],
   "source": [
    "X=np.array(x_train)\n",
    "#input_seq.shape\n",
    "y=np.array(y_train).reshape(len(y_train),1)\n",
    "#target=tf.reshape(tf.constant(y_train),[len(y_train),1])"
   ]
  },
  {
   "cell_type": "code",
   "execution_count": null,
   "metadata": {
    "colab": {
     "base_uri": "https://localhost:8080/"
    },
    "id": "-LgTXADBLWod",
    "outputId": "f439b03a-836f-4e92-9049-a154b241325f"
   },
   "outputs": [
    {
     "data": {
      "text/plain": [
       "(222, 1)"
      ]
     },
     "execution_count": 137,
     "metadata": {
      "tags": []
     },
     "output_type": "execute_result"
    }
   ],
   "source": [
    "y.shape"
   ]
  },
  {
   "cell_type": "code",
   "execution_count": null,
   "metadata": {
    "id": "K963m-_GKRoK"
   },
   "outputs": [],
   "source": [
    "X_train,X_test,y_train,y_test=train_test_split(X,y,test_size=0.3)"
   ]
  },
  {
   "cell_type": "code",
   "execution_count": null,
   "metadata": {
    "colab": {
     "base_uri": "https://localhost:8080/"
    },
    "id": "SAvkBoN6Ls5L",
    "outputId": "ad9901de-c133-43c5-ac24-c1a740cb2ba0"
   },
   "outputs": [
    {
     "data": {
      "text/plain": [
       "(155, 9)"
      ]
     },
     "execution_count": 139,
     "metadata": {
      "tags": []
     },
     "output_type": "execute_result"
    }
   ],
   "source": [
    "X_train.shape"
   ]
  },
  {
   "cell_type": "code",
   "execution_count": null,
   "metadata": {
    "id": "DNlVNBx1LwLB"
   },
   "outputs": [],
   "source": [
    "y_train"
   ]
  },
  {
   "cell_type": "code",
   "execution_count": null,
   "metadata": {
    "id": "87Uy9xVrKJ36"
   },
   "outputs": [],
   "source": [
    "input_seq,test_seq,y_true,y_hat=tf.constant(X_train),tf.constant(X_test),tf.constant(y_train),tf.constant(y_test)"
   ]
  },
  {
   "cell_type": "code",
   "execution_count": null,
   "metadata": {
    "colab": {
     "base_uri": "https://localhost:8080/"
    },
    "id": "27aW3YsEMtgx",
    "outputId": "90649db4-b9bb-4359-8802-03ff28573dc8"
   },
   "outputs": [
    {
     "data": {
      "text/plain": [
       "<tf.Tensor: shape=(155, 9), dtype=int64, numpy=\n",
       "array([[ 16,   4,   1, ...,  10, 224,  84],\n",
       "       [  7, 251,  47, ..., 252, 119,  10],\n",
       "       [ 20,  12,  42, ...,  36, 143,   1],\n",
       "       ...,\n",
       "       [  5,  70, 486, ...,   7,  27,  13],\n",
       "       [  1, 240,  34, ..., 149,  16,   4],\n",
       "       [  1, 140, 137, ...,  15, 348,  62]])>"
      ]
     },
     "execution_count": 142,
     "metadata": {
      "tags": []
     },
     "output_type": "execute_result"
    }
   ],
   "source": [
    "input_seq"
   ]
  },
  {
   "cell_type": "code",
   "execution_count": null,
   "metadata": {
    "colab": {
     "base_uri": "https://localhost:8080/"
    },
    "id": "pdqPr0qBOZ_j",
    "outputId": "cd94454e-5fbf-46a4-9463-3ae596ad1fbd"
   },
   "outputs": [
    {
     "data": {
      "text/plain": [
       "<tf.Tensor: shape=(), dtype=int64, numpy=605>"
      ]
     },
     "execution_count": 143,
     "metadata": {
      "tags": []
     },
     "output_type": "execute_result"
    }
   ],
   "source": [
    "tf.reduce_max(input_seq)+1"
   ]
  },
  {
   "cell_type": "code",
   "execution_count": null,
   "metadata": {
    "id": "3NIzBxrMkJO-"
   },
   "outputs": [],
   "source": [
    "input=Input(shape=(seq_len-1,))\n",
    "x=Embedding(input_dim=vocab_size+1,input_length=seq_len-1,output_dim=50,weights=[embedding_array],trainable=True)(input)\n",
    "x=SimpleRNN(128)(x)\n",
    "x=Dense(64)(x)\n",
    "x=Dense(32)(x)\n",
    "output=Dense(vocab_size,activation=\"softmax\")(x)\n",
    "model=Model(input,output)"
   ]
  },
  {
   "cell_type": "code",
   "execution_count": null,
   "metadata": {
    "id": "MbsSkoNZQ9dC"
   },
   "outputs": [],
   "source": [
    "model.summary()"
   ]
  },
  {
   "cell_type": "code",
   "execution_count": null,
   "metadata": {
    "id": "Nmoai3BQocfR"
   },
   "outputs": [],
   "source": [
    "model.compile(optimizer=Adam(0.01),loss=tf.keras.losses.sparse_categorical_crossentropy,metrics=['accuracy'])"
   ]
  },
  {
   "cell_type": "code",
   "execution_count": null,
   "metadata": {
    "colab": {
     "base_uri": "https://localhost:8080/"
    },
    "id": "MzNXbH2joqD0",
    "outputId": "7bf988eb-003b-4c6d-b2d3-fd8c6e48f778"
   },
   "outputs": [
    {
     "name": "stdout",
     "output_type": "stream",
     "text": [
      "Epoch 1/10\n",
      "5/5 [==============================] - 1s 20ms/step - loss: 6.2532 - accuracy: 0.0323\n",
      "Epoch 2/10\n",
      "5/5 [==============================] - 0s 19ms/step - loss: 4.8927 - accuracy: 0.0387\n",
      "Epoch 3/10\n",
      "5/5 [==============================] - 0s 20ms/step - loss: 4.4866 - accuracy: 0.0258\n",
      "Epoch 4/10\n",
      "5/5 [==============================] - 0s 19ms/step - loss: 4.4319 - accuracy: 0.0581\n",
      "Epoch 5/10\n",
      "5/5 [==============================] - 0s 18ms/step - loss: 4.3962 - accuracy: 0.0452\n",
      "Epoch 6/10\n",
      "5/5 [==============================] - 0s 18ms/step - loss: 4.3876 - accuracy: 0.0581\n",
      "Epoch 7/10\n",
      "5/5 [==============================] - 0s 16ms/step - loss: 4.3904 - accuracy: 0.0581\n",
      "Epoch 8/10\n",
      "5/5 [==============================] - 0s 19ms/step - loss: 4.3506 - accuracy: 0.0516\n",
      "Epoch 9/10\n",
      "5/5 [==============================] - 0s 21ms/step - loss: 4.3576 - accuracy: 0.0452\n",
      "Epoch 10/10\n",
      "5/5 [==============================] - 0s 23ms/step - loss: 4.3348 - accuracy: 0.0581\n"
     ]
    },
    {
     "data": {
      "text/plain": [
       "<tensorflow.python.keras.callbacks.History at 0x7fdd1a67d310>"
      ]
     },
     "execution_count": 173,
     "metadata": {
      "tags": []
     },
     "output_type": "execute_result"
    }
   ],
   "source": [
    "model.fit(input_seq,y_true,epochs=10)"
   ]
  },
  {
   "cell_type": "code",
   "execution_count": null,
   "metadata": {
    "colab": {
     "base_uri": "https://localhost:8080/"
    },
    "id": "iLpi5L4SJSpX",
    "outputId": "ab3d43f0-31d7-44f0-8aea-38392e91f3a3"
   },
   "outputs": [
    {
     "name": "stdout",
     "output_type": "stream",
     "text": [
      "3/3 [==============================] - 0s 6ms/step - loss: 6.6325 - accuracy: 0.0597\n"
     ]
    },
    {
     "data": {
      "text/plain": [
       "[6.632516384124756, 0.05970149114727974]"
      ]
     },
     "execution_count": 174,
     "metadata": {
      "tags": []
     },
     "output_type": "execute_result"
    }
   ],
   "source": [
    "model.evaluate(test_seq,y_hat)"
   ]
  },
  {
   "cell_type": "code",
   "execution_count": null,
   "metadata": {
    "colab": {
     "base_uri": "https://localhost:8080/"
    },
    "id": "5JiLY6K5qQQN",
    "outputId": "ece4cbe3-a34e-4a83-ec89-338fd31f1531"
   },
   "outputs": [
    {
     "data": {
      "text/plain": [
       "<tf.Tensor: shape=(1, 9), dtype=int32, numpy=array([[  0,   0,   0,   0,   0, 167, 563, 162,  11]], dtype=int32)>"
      ]
     },
     "execution_count": 175,
     "metadata": {
      "tags": []
     },
     "output_type": "execute_result"
    }
   ],
   "source": [
    "input_text=[\"she was such a good person\"]\n",
    "#input_text=[\"he was such a good person and honestly speaking he did make good use of his\"]\n",
    "#input_text=[\"can you please\"]\n",
    "#input_text=[\"marriage is such a beautiful\"]\n",
    "toks=tokenizer.texts_to_sequences(input_text)\n",
    "ins=pad_sequences(toks,maxlen=seq_len-1)\n",
    "input_tensor=tf.constant(ins)\n",
    "input_tensor"
   ]
  },
  {
   "cell_type": "code",
   "execution_count": null,
   "metadata": {
    "colab": {
     "base_uri": "https://localhost:8080/",
     "height": 36
    },
    "id": "J7hHHunLrnRx",
    "outputId": "9689a8db-f07a-4a36-b411-257590fd8666"
   },
   "outputs": [
    {
     "data": {
      "application/vnd.google.colaboratory.intrinsic+json": {
       "type": "string"
      },
      "text/plain": [
       "'and'"
      ]
     },
     "execution_count": 176,
     "metadata": {
      "tags": []
     },
     "output_type": "execute_result"
    }
   ],
   "source": [
    "pred=model.predict(input_tensor)\n",
    "keys[vals.index(np.argmax(pred))]"
   ]
  },
  {
   "cell_type": "code",
   "execution_count": null,
   "metadata": {
    "colab": {
     "base_uri": "https://localhost:8080/",
     "height": 36
    },
    "id": "ABZ66jz4dtDd",
    "outputId": "e8014928-395b-484b-dfaf-2e0ad5edf6e1"
   },
   "outputs": [
    {
     "data": {
      "application/vnd.google.colaboratory.intrinsic+json": {
       "type": "string"
      },
      "text/plain": [
       "'she was such a good person and'"
      ]
     },
     "execution_count": 177,
     "metadata": {
      "tags": []
     },
     "output_type": "execute_result"
    }
   ],
   "source": [
    "input_text[0]=input_text[0]+' '+keys[vals.index(np.argmax(pred))]\n",
    "input_text[0]"
   ]
  },
  {
   "cell_type": "code",
   "execution_count": null,
   "metadata": {
    "colab": {
     "base_uri": "https://localhost:8080/"
    },
    "id": "0AjbtM33ekzG",
    "outputId": "709ab730-b2b1-4487-ce30-c1d434f85e64"
   },
   "outputs": [
    {
     "name": "stdout",
     "output_type": "stream",
     "text": [
      "['she was such a good person and and and and and and and and and and and']\n"
     ]
    }
   ],
   "source": [
    "for i in range(10):\n",
    "  toks=tokenizer.texts_to_sequences(input_text)\n",
    "  ins=pad_sequences(toks,maxlen=seq_len-1)\n",
    "  input_tensor=tf.constant(ins)\n",
    "  pred=model.predict(input_tensor)\n",
    "  input_text[0]=input_text[0]+' '+keys[vals.index(np.argmax(pred))]\n",
    "\n",
    "print(input_text)"
   ]
  },
  {
   "cell_type": "code",
   "execution_count": null,
   "metadata": {
    "colab": {
     "base_uri": "https://localhost:8080/"
    },
    "id": "KaBm737y7CD9",
    "outputId": "a216adf2-bae9-482f-d107-131559302fd8"
   },
   "outputs": [
    {
     "name": "stdout",
     "output_type": "stream",
     "text": [
      "than\n",
      "to\n",
      "gain\n",
      "the\n",
      "fulfilled\n"
     ]
    }
   ],
   "source": [
    "sort_pred=np.argsort(pred[0])\n",
    "pred_words=np.flip(sort_pred[-5:])\n",
    "for index in pred_words:\n",
    "  print(keys[vals.index(index)])"
   ]
  }
 ],
 "metadata": {
  "accelerator": "GPU",
  "colab": {
   "collapsed_sections": [],
   "name": "Next_Word_Prediction.ipynb",
   "provenance": []
  },
  "kernelspec": {
   "display_name": "Python 3",
   "language": "python",
   "name": "python3"
  },
  "language_info": {
   "codemirror_mode": {
    "name": "ipython",
    "version": 3
   },
   "file_extension": ".py",
   "mimetype": "text/x-python",
   "name": "python",
   "nbconvert_exporter": "python",
   "pygments_lexer": "ipython3",
   "version": "3.8.3"
  }
 },
 "nbformat": 4,
 "nbformat_minor": 1
}
